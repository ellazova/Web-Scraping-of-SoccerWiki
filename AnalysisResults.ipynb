{
 "cells": [
  {
   "cell_type": "code",
   "execution_count": 1,
   "id": "6f70f1c2-3eac-4f37-b612-5d4f88ea8fd5",
   "metadata": {
    "tags": []
   },
   "outputs": [],
   "source": [
    "import pandas as pd\n",
    "import numpy as np\n",
    "data = pd.read_csv(r\"C:\\Users\\ellaz\\Downloads\\soup_player_stats_new.csv\")"
   ]
  },
  {
   "cell_type": "code",
   "execution_count": 2,
   "id": "cce92f72-a28c-4da9-b774-2206f85c3aae",
   "metadata": {
    "tags": []
   },
   "outputs": [
    {
     "data": {
      "text/html": [
       "<div>\n",
       "<style scoped>\n",
       "    .dataframe tbody tr th:only-of-type {\n",
       "        vertical-align: middle;\n",
       "    }\n",
       "\n",
       "    .dataframe tbody tr th {\n",
       "        vertical-align: top;\n",
       "    }\n",
       "\n",
       "    .dataframe thead th {\n",
       "        text-align: right;\n",
       "    }\n",
       "</style>\n",
       "<table border=\"1\" class=\"dataframe\">\n",
       "  <thead>\n",
       "    <tr style=\"text-align: right;\">\n",
       "      <th></th>\n",
       "      <th>Unnamed: 0</th>\n",
       "      <th>NAME</th>\n",
       "      <th>CLUB</th>\n",
       "      <th>POSITION</th>\n",
       "      <th>HEIGHT</th>\n",
       "      <th>FOOT</th>\n",
       "      <th>AGE</th>\n",
       "      <th>RATING</th>\n",
       "    </tr>\n",
       "  </thead>\n",
       "  <tbody>\n",
       "    <tr>\n",
       "      <th>0</th>\n",
       "      <td>0</td>\n",
       "      <td>Lionel Messi</td>\n",
       "      <td>Paris Saint-Germain</td>\n",
       "      <td>AM,F(RC)</td>\n",
       "      <td>170</td>\n",
       "      <td>Left</td>\n",
       "      <td>34</td>\n",
       "      <td>98</td>\n",
       "    </tr>\n",
       "    <tr>\n",
       "      <th>1</th>\n",
       "      <td>1</td>\n",
       "      <td>Robert Lewandowski</td>\n",
       "      <td>Bayern München</td>\n",
       "      <td>F(C)</td>\n",
       "      <td>184</td>\n",
       "      <td>Right</td>\n",
       "      <td>33</td>\n",
       "      <td>97</td>\n",
       "    </tr>\n",
       "    <tr>\n",
       "      <th>2</th>\n",
       "      <td>2</td>\n",
       "      <td>Kylian Mbappé</td>\n",
       "      <td>Paris Saint-Germain</td>\n",
       "      <td>AM(RL),F(RLC)</td>\n",
       "      <td>178</td>\n",
       "      <td>Right</td>\n",
       "      <td>23</td>\n",
       "      <td>96</td>\n",
       "    </tr>\n",
       "    <tr>\n",
       "      <th>3</th>\n",
       "      <td>3</td>\n",
       "      <td>Júnior Neymar</td>\n",
       "      <td>Paris Saint-Germain</td>\n",
       "      <td>AM,F(RLC)</td>\n",
       "      <td>174</td>\n",
       "      <td>Both</td>\n",
       "      <td>30</td>\n",
       "      <td>96</td>\n",
       "    </tr>\n",
       "    <tr>\n",
       "      <th>4</th>\n",
       "      <td>4</td>\n",
       "      <td>Mohamed Salah</td>\n",
       "      <td>Liverpool</td>\n",
       "      <td>AM(R),F(RC)</td>\n",
       "      <td>175</td>\n",
       "      <td>Left</td>\n",
       "      <td>29</td>\n",
       "      <td>96</td>\n",
       "    </tr>\n",
       "    <tr>\n",
       "      <th>...</th>\n",
       "      <td>...</td>\n",
       "      <td>...</td>\n",
       "      <td>...</td>\n",
       "      <td>...</td>\n",
       "      <td>...</td>\n",
       "      <td>...</td>\n",
       "      <td>...</td>\n",
       "      <td>...</td>\n",
       "    </tr>\n",
       "    <tr>\n",
       "      <th>96</th>\n",
       "      <td>96</td>\n",
       "      <td>Jordi Alba</td>\n",
       "      <td>Barcelona</td>\n",
       "      <td>D,DM,M(L)</td>\n",
       "      <td>170</td>\n",
       "      <td>Left</td>\n",
       "      <td>33</td>\n",
       "      <td>92</td>\n",
       "    </tr>\n",
       "    <tr>\n",
       "      <th>97</th>\n",
       "      <td>97</td>\n",
       "      <td>Matthijs de Ligt</td>\n",
       "      <td>Juventus</td>\n",
       "      <td>D(C)</td>\n",
       "      <td>189</td>\n",
       "      <td>Both</td>\n",
       "      <td>22</td>\n",
       "      <td>92</td>\n",
       "    </tr>\n",
       "    <tr>\n",
       "      <th>98</th>\n",
       "      <td>98</td>\n",
       "      <td>Milan Skriniar</td>\n",
       "      <td>Internazionale</td>\n",
       "      <td>D(C)</td>\n",
       "      <td>186</td>\n",
       "      <td>Right</td>\n",
       "      <td>27</td>\n",
       "      <td>92</td>\n",
       "    </tr>\n",
       "    <tr>\n",
       "      <th>99</th>\n",
       "      <td>99</td>\n",
       "      <td>Aymeric Laporte</td>\n",
       "      <td>Manchester City</td>\n",
       "      <td>D(LC)</td>\n",
       "      <td>191</td>\n",
       "      <td>Left</td>\n",
       "      <td>27</td>\n",
       "      <td>92</td>\n",
       "    </tr>\n",
       "    <tr>\n",
       "      <th>100</th>\n",
       "      <td>100</td>\n",
       "      <td>Stefan de Vrij</td>\n",
       "      <td>Internazionale</td>\n",
       "      <td>D(C)</td>\n",
       "      <td>189</td>\n",
       "      <td>Right</td>\n",
       "      <td>30</td>\n",
       "      <td>92</td>\n",
       "    </tr>\n",
       "  </tbody>\n",
       "</table>\n",
       "<p>101 rows × 8 columns</p>\n",
       "</div>"
      ],
      "text/plain": [
       "     Unnamed: 0                NAME                 CLUB       POSITION  \\\n",
       "0             0        Lionel Messi  Paris Saint-Germain       AM,F(RC)   \n",
       "1             1  Robert Lewandowski       Bayern München           F(C)   \n",
       "2             2       Kylian Mbappé  Paris Saint-Germain  AM(RL),F(RLC)   \n",
       "3             3       Júnior Neymar  Paris Saint-Germain      AM,F(RLC)   \n",
       "4             4       Mohamed Salah            Liverpool    AM(R),F(RC)   \n",
       "..          ...                 ...                  ...            ...   \n",
       "96           96          Jordi Alba            Barcelona      D,DM,M(L)   \n",
       "97           97    Matthijs de Ligt             Juventus           D(C)   \n",
       "98           98      Milan Skriniar       Internazionale           D(C)   \n",
       "99           99     Aymeric Laporte      Manchester City          D(LC)   \n",
       "100         100      Stefan de Vrij       Internazionale           D(C)   \n",
       "\n",
       "     HEIGHT   FOOT  AGE  RATING  \n",
       "0       170   Left   34      98  \n",
       "1       184  Right   33      97  \n",
       "2       178  Right   23      96  \n",
       "3       174   Both   30      96  \n",
       "4       175   Left   29      96  \n",
       "..      ...    ...  ...     ...  \n",
       "96      170   Left   33      92  \n",
       "97      189   Both   22      92  \n",
       "98      186  Right   27      92  \n",
       "99      191   Left   27      92  \n",
       "100     189  Right   30      92  \n",
       "\n",
       "[101 rows x 8 columns]"
      ]
     },
     "execution_count": 2,
     "metadata": {},
     "output_type": "execute_result"
    }
   ],
   "source": [
    "data"
   ]
  },
  {
   "cell_type": "code",
   "execution_count": 3,
   "id": "4b5c37d0-fc8d-4d2c-b5aa-97ec04f8bd3f",
   "metadata": {},
   "outputs": [],
   "source": [
    "f1 = data[\"FOOT\"] == \"Left\"\n",
    "f2 = data[\"FOOT\"] == \"Right\"\n",
    "f3 = data[\"FOOT\"] == \"Both\""
   ]
  },
  {
   "cell_type": "code",
   "execution_count": 9,
   "id": "6e5eb719-7b5a-46bb-a98d-5dd3be9f4218",
   "metadata": {},
   "outputs": [
    {
     "data": {
      "text/plain": [
       "92    9\n",
       "94    5\n",
       "93    4\n",
       "98    1\n",
       "96    1\n",
       "Name: RATING, dtype: int64"
      ]
     },
     "execution_count": 9,
     "metadata": {},
     "output_type": "execute_result"
    }
   ],
   "source": [
    "# WE can see the division of top 100 footballers who give preference \n",
    "# to left foot by ratings\n",
    "data[f1][\"RATING\"].value_counts()\n"
   ]
  },
  {
   "cell_type": "code",
   "execution_count": 11,
   "id": "10627e06-a64a-451e-ab2e-aad5c3d1cc9e",
   "metadata": {},
   "outputs": [
    {
     "data": {
      "text/plain": [
       "92    25\n",
       "93    16\n",
       "94    11\n",
       "95     4\n",
       "96     3\n",
       "97     1\n",
       "Name: RATING, dtype: int64"
      ]
     },
     "execution_count": 11,
     "metadata": {},
     "output_type": "execute_result"
    }
   ],
   "source": [
    "# WE can see the division of top 100 footballers who give preference \n",
    "# to right foot by ratings\n",
    "data[f2][\"RATING\"].value_counts()"
   ]
  },
  {
   "cell_type": "code",
   "execution_count": 12,
   "id": "145e389d-d2a6-40f6-8404-559213d7d563",
   "metadata": {},
   "outputs": [
    {
     "data": {
      "text/plain": [
       "92    12\n",
       "93     3\n",
       "96     2\n",
       "95     2\n",
       "94     2\n",
       "Name: RATING, dtype: int64"
      ]
     },
     "execution_count": 12,
     "metadata": {},
     "output_type": "execute_result"
    }
   ],
   "source": [
    "# WE can see the division of top 100 footballers who give preference \n",
    "# to both feet by ratings\n",
    "data[f3][\"RATING\"].value_counts()"
   ]
  },
  {
   "cell_type": "code",
   "execution_count": 21,
   "id": "2a5a074a-71c5-46c8-aad4-02c9c420e6fb",
   "metadata": {},
   "outputs": [
    {
     "data": {
      "text/plain": [
       "19.801980198019802"
      ]
     },
     "execution_count": 21,
     "metadata": {},
     "output_type": "execute_result"
    }
   ],
   "source": [
    "# but if we want to know just how many are using left, right or both feet \n",
    "# as a percentage we can do as follows\n",
    "\n",
    "# Left foot\n",
    "data[f1][\"FOOT\"].count()/len(data)*100"
   ]
  },
  {
   "cell_type": "code",
   "execution_count": 22,
   "id": "cf6fa2eb-c74c-4a7f-9065-5403c5076669",
   "metadata": {},
   "outputs": [
    {
     "data": {
      "text/plain": [
       "59.4059405940594"
      ]
     },
     "execution_count": 22,
     "metadata": {},
     "output_type": "execute_result"
    }
   ],
   "source": [
    "# Right foot\n",
    "data[f2][\"FOOT\"].count()/len(data)*100"
   ]
  },
  {
   "cell_type": "code",
   "execution_count": 23,
   "id": "87c9e9b2-4c88-4ce6-98cf-2d67ecd87757",
   "metadata": {},
   "outputs": [
    {
     "data": {
      "text/plain": [
       "20.792079207920793"
      ]
     },
     "execution_count": 23,
     "metadata": {},
     "output_type": "execute_result"
    }
   ],
   "source": [
    "# Both feet\n",
    "data[f3][\"FOOT\"].count()/len(data)*100"
   ]
  },
  {
   "cell_type": "code",
   "execution_count": null,
   "id": "e1bb29f1-0da9-47a4-84e6-fc43da9561fc",
   "metadata": {},
   "outputs": [],
   "source": [
    "# So we can see that majority of top players are using their right foot more often"
   ]
  },
  {
   "cell_type": "code",
   "execution_count": 24,
   "id": "bf15680b-2577-495c-bf22-673d75f2a1a4",
   "metadata": {},
   "outputs": [],
   "source": [
    "# what we can do now is basic clustering using K-means\n",
    "from sklearn.cluster import KMeans\n",
    "import pandas as pd\n",
    "from sklearn.preprocessing import MinMaxScaler\n",
    "from matplotlib import pyplot as plt \n",
    "%matplotlib inline"
   ]
  },
  {
   "cell_type": "code",
   "execution_count": 26,
   "id": "b4ff9712-87eb-44f8-921e-949dc02b9fee",
   "metadata": {},
   "outputs": [
    {
     "data": {
      "text/html": [
       "<div>\n",
       "<style scoped>\n",
       "    .dataframe tbody tr th:only-of-type {\n",
       "        vertical-align: middle;\n",
       "    }\n",
       "\n",
       "    .dataframe tbody tr th {\n",
       "        vertical-align: top;\n",
       "    }\n",
       "\n",
       "    .dataframe thead th {\n",
       "        text-align: right;\n",
       "    }\n",
       "</style>\n",
       "<table border=\"1\" class=\"dataframe\">\n",
       "  <thead>\n",
       "    <tr style=\"text-align: right;\">\n",
       "      <th></th>\n",
       "      <th>Unnamed: 0</th>\n",
       "      <th>NAME</th>\n",
       "      <th>CLUB</th>\n",
       "      <th>POSITION</th>\n",
       "      <th>HEIGHT</th>\n",
       "      <th>FOOT</th>\n",
       "      <th>AGE</th>\n",
       "      <th>RATING</th>\n",
       "    </tr>\n",
       "  </thead>\n",
       "  <tbody>\n",
       "    <tr>\n",
       "      <th>0</th>\n",
       "      <td>0</td>\n",
       "      <td>Lionel Messi</td>\n",
       "      <td>Paris Saint-Germain</td>\n",
       "      <td>AM,F(RC)</td>\n",
       "      <td>170</td>\n",
       "      <td>Left</td>\n",
       "      <td>34</td>\n",
       "      <td>98</td>\n",
       "    </tr>\n",
       "    <tr>\n",
       "      <th>1</th>\n",
       "      <td>1</td>\n",
       "      <td>Robert Lewandowski</td>\n",
       "      <td>Bayern München</td>\n",
       "      <td>F(C)</td>\n",
       "      <td>184</td>\n",
       "      <td>Right</td>\n",
       "      <td>33</td>\n",
       "      <td>97</td>\n",
       "    </tr>\n",
       "    <tr>\n",
       "      <th>2</th>\n",
       "      <td>2</td>\n",
       "      <td>Kylian Mbappé</td>\n",
       "      <td>Paris Saint-Germain</td>\n",
       "      <td>AM(RL),F(RLC)</td>\n",
       "      <td>178</td>\n",
       "      <td>Right</td>\n",
       "      <td>23</td>\n",
       "      <td>96</td>\n",
       "    </tr>\n",
       "    <tr>\n",
       "      <th>3</th>\n",
       "      <td>3</td>\n",
       "      <td>Júnior Neymar</td>\n",
       "      <td>Paris Saint-Germain</td>\n",
       "      <td>AM,F(RLC)</td>\n",
       "      <td>174</td>\n",
       "      <td>Both</td>\n",
       "      <td>30</td>\n",
       "      <td>96</td>\n",
       "    </tr>\n",
       "    <tr>\n",
       "      <th>4</th>\n",
       "      <td>4</td>\n",
       "      <td>Mohamed Salah</td>\n",
       "      <td>Liverpool</td>\n",
       "      <td>AM(R),F(RC)</td>\n",
       "      <td>175</td>\n",
       "      <td>Left</td>\n",
       "      <td>29</td>\n",
       "      <td>96</td>\n",
       "    </tr>\n",
       "  </tbody>\n",
       "</table>\n",
       "</div>"
      ],
      "text/plain": [
       "   Unnamed: 0                NAME                 CLUB       POSITION  HEIGHT  \\\n",
       "0           0        Lionel Messi  Paris Saint-Germain       AM,F(RC)     170   \n",
       "1           1  Robert Lewandowski       Bayern München           F(C)     184   \n",
       "2           2       Kylian Mbappé  Paris Saint-Germain  AM(RL),F(RLC)     178   \n",
       "3           3       Júnior Neymar  Paris Saint-Germain      AM,F(RLC)     174   \n",
       "4           4       Mohamed Salah            Liverpool    AM(R),F(RC)     175   \n",
       "\n",
       "    FOOT  AGE  RATING  \n",
       "0   Left   34      98  \n",
       "1  Right   33      97  \n",
       "2  Right   23      96  \n",
       "3   Both   30      96  \n",
       "4   Left   29      96  "
      ]
     },
     "execution_count": 26,
     "metadata": {},
     "output_type": "execute_result"
    }
   ],
   "source": [
    "data.head()"
   ]
  },
  {
   "cell_type": "code",
   "execution_count": 27,
   "id": "faece9c4-9b3c-4d6b-bdf6-10615cd87f20",
   "metadata": {},
   "outputs": [
    {
     "data": {
      "text/plain": [
       "<matplotlib.collections.PathCollection at 0x21a99e5fcd0>"
      ]
     },
     "execution_count": 27,
     "metadata": {},
     "output_type": "execute_result"
    },
    {
     "data": {
      "image/png": "[encoded data removed]",
      "text/plain": [
       "<Figure size 432x288 with 1 Axes>"
      ]
     },
     "metadata": {
      "needs_background": "light"
     },
     "output_type": "display_data"
    }
   ],
   "source": [
    "plt.scatter(data[\"AGE\"], data[\"RATING\"])"
   ]
  },
  {
   "cell_type": "code",
   "execution_count": 29,
   "id": "d7e27fe4-dae3-437f-8c5f-09294548bf91",
   "metadata": {},
   "outputs": [],
   "source": [
    "km = KMeans(n_clusters = 3)"
   ]
  },
  {
   "cell_type": "code",
   "execution_count": 30,
   "id": "c95e3d09-c1db-4781-9562-0500a0aa3f65",
   "metadata": {},
   "outputs": [
    {
     "data": {
      "text/plain": [
       "KMeans(n_clusters=3)"
      ]
     },
     "execution_count": 30,
     "metadata": {},
     "output_type": "execute_result"
    }
   ],
   "source": [
    "km\n"
   ]
  },
  {
   "cell_type": "code",
   "execution_count": 32,
   "id": "b5e6564e-1267-4279-aed3-d9885ddf5591",
   "metadata": {},
   "outputs": [
    {
     "data": {
      "text/plain": [
       "array([0, 0, 2, 1, 1, 0, 1, 1, 1, 0, 1, 1, 1, 0, 1, 0, 1, 1, 2, 1, 1, 1,\n",
       "       1, 1, 0, 2, 1, 1, 1, 1, 1, 1, 1, 1, 1, 0, 0, 2, 2, 1, 1, 0, 1, 1,\n",
       "       1, 2, 1, 1, 1, 0, 2, 1, 0, 1, 1, 1, 2, 1, 2, 2, 2, 1, 0, 0, 2, 0,\n",
       "       0, 2, 2, 1, 0, 2, 2, 2, 2, 2, 1, 1, 0, 0, 2, 1, 1, 1, 1, 1, 1, 1,\n",
       "       1, 1, 0, 0, 2, 2, 1, 1, 0, 2, 1, 1, 1])"
      ]
     },
     "execution_count": 32,
     "metadata": {},
     "output_type": "execute_result"
    }
   ],
   "source": [
    "y_predicted = km.fit_predict(data[[\"AGE\",\"RATING\"]])\n",
    "y_predicted"
   ]
  },
  {
   "cell_type": "code",
   "execution_count": 39,
   "id": "e4b83942-9df9-4ea9-8769-00a040270e9d",
   "metadata": {},
   "outputs": [
    {
     "data": {
      "text/html": [
       "<div>\n",
       "<style scoped>\n",
       "    .dataframe tbody tr th:only-of-type {\n",
       "        vertical-align: middle;\n",
       "    }\n",
       "\n",
       "    .dataframe tbody tr th {\n",
       "        vertical-align: top;\n",
       "    }\n",
       "\n",
       "    .dataframe thead th {\n",
       "        text-align: right;\n",
       "    }\n",
       "</style>\n",
       "<table border=\"1\" class=\"dataframe\">\n",
       "  <thead>\n",
       "    <tr style=\"text-align: right;\">\n",
       "      <th></th>\n",
       "      <th>Unnamed: 0</th>\n",
       "      <th>NAME</th>\n",
       "      <th>CLUB</th>\n",
       "      <th>POSITION</th>\n",
       "      <th>HEIGHT</th>\n",
       "      <th>FOOT</th>\n",
       "      <th>AGE</th>\n",
       "      <th>RATING</th>\n",
       "      <th>cluster</th>\n",
       "    </tr>\n",
       "  </thead>\n",
       "  <tbody>\n",
       "    <tr>\n",
       "      <th>0</th>\n",
       "      <td>0</td>\n",
       "      <td>Lionel Messi</td>\n",
       "      <td>Paris Saint-Germain</td>\n",
       "      <td>AM,F(RC)</td>\n",
       "      <td>170</td>\n",
       "      <td>Left</td>\n",
       "      <td>34</td>\n",
       "      <td>98</td>\n",
       "      <td>0</td>\n",
       "    </tr>\n",
       "    <tr>\n",
       "      <th>1</th>\n",
       "      <td>1</td>\n",
       "      <td>Robert Lewandowski</td>\n",
       "      <td>Bayern München</td>\n",
       "      <td>F(C)</td>\n",
       "      <td>184</td>\n",
       "      <td>Right</td>\n",
       "      <td>33</td>\n",
       "      <td>97</td>\n",
       "      <td>0</td>\n",
       "    </tr>\n",
       "    <tr>\n",
       "      <th>2</th>\n",
       "      <td>2</td>\n",
       "      <td>Kylian Mbappé</td>\n",
       "      <td>Paris Saint-Germain</td>\n",
       "      <td>AM(RL),F(RLC)</td>\n",
       "      <td>178</td>\n",
       "      <td>Right</td>\n",
       "      <td>23</td>\n",
       "      <td>96</td>\n",
       "      <td>2</td>\n",
       "    </tr>\n",
       "    <tr>\n",
       "      <th>3</th>\n",
       "      <td>3</td>\n",
       "      <td>Júnior Neymar</td>\n",
       "      <td>Paris Saint-Germain</td>\n",
       "      <td>AM,F(RLC)</td>\n",
       "      <td>174</td>\n",
       "      <td>Both</td>\n",
       "      <td>30</td>\n",
       "      <td>96</td>\n",
       "      <td>1</td>\n",
       "    </tr>\n",
       "    <tr>\n",
       "      <th>4</th>\n",
       "      <td>4</td>\n",
       "      <td>Mohamed Salah</td>\n",
       "      <td>Liverpool</td>\n",
       "      <td>AM(R),F(RC)</td>\n",
       "      <td>175</td>\n",
       "      <td>Left</td>\n",
       "      <td>29</td>\n",
       "      <td>96</td>\n",
       "      <td>1</td>\n",
       "    </tr>\n",
       "    <tr>\n",
       "      <th>...</th>\n",
       "      <td>...</td>\n",
       "      <td>...</td>\n",
       "      <td>...</td>\n",
       "      <td>...</td>\n",
       "      <td>...</td>\n",
       "      <td>...</td>\n",
       "      <td>...</td>\n",
       "      <td>...</td>\n",
       "      <td>...</td>\n",
       "    </tr>\n",
       "    <tr>\n",
       "      <th>96</th>\n",
       "      <td>96</td>\n",
       "      <td>Jordi Alba</td>\n",
       "      <td>Barcelona</td>\n",
       "      <td>D,DM,M(L)</td>\n",
       "      <td>170</td>\n",
       "      <td>Left</td>\n",
       "      <td>33</td>\n",
       "      <td>92</td>\n",
       "      <td>0</td>\n",
       "    </tr>\n",
       "    <tr>\n",
       "      <th>97</th>\n",
       "      <td>97</td>\n",
       "      <td>Matthijs de Ligt</td>\n",
       "      <td>Juventus</td>\n",
       "      <td>D(C)</td>\n",
       "      <td>189</td>\n",
       "      <td>Both</td>\n",
       "      <td>22</td>\n",
       "      <td>92</td>\n",
       "      <td>2</td>\n",
       "    </tr>\n",
       "    <tr>\n",
       "      <th>98</th>\n",
       "      <td>98</td>\n",
       "      <td>Milan Skriniar</td>\n",
       "      <td>Internazionale</td>\n",
       "      <td>D(C)</td>\n",
       "      <td>186</td>\n",
       "      <td>Right</td>\n",
       "      <td>27</td>\n",
       "      <td>92</td>\n",
       "      <td>1</td>\n",
       "    </tr>\n",
       "    <tr>\n",
       "      <th>99</th>\n",
       "      <td>99</td>\n",
       "      <td>Aymeric Laporte</td>\n",
       "      <td>Manchester City</td>\n",
       "      <td>D(LC)</td>\n",
       "      <td>191</td>\n",
       "      <td>Left</td>\n",
       "      <td>27</td>\n",
       "      <td>92</td>\n",
       "      <td>1</td>\n",
       "    </tr>\n",
       "    <tr>\n",
       "      <th>100</th>\n",
       "      <td>100</td>\n",
       "      <td>Stefan de Vrij</td>\n",
       "      <td>Internazionale</td>\n",
       "      <td>D(C)</td>\n",
       "      <td>189</td>\n",
       "      <td>Right</td>\n",
       "      <td>30</td>\n",
       "      <td>92</td>\n",
       "      <td>1</td>\n",
       "    </tr>\n",
       "  </tbody>\n",
       "</table>\n",
       "<p>101 rows × 9 columns</p>\n",
       "</div>"
      ],
      "text/plain": [
       "     Unnamed: 0                NAME                 CLUB       POSITION  \\\n",
       "0             0        Lionel Messi  Paris Saint-Germain       AM,F(RC)   \n",
       "1             1  Robert Lewandowski       Bayern München           F(C)   \n",
       "2             2       Kylian Mbappé  Paris Saint-Germain  AM(RL),F(RLC)   \n",
       "3             3       Júnior Neymar  Paris Saint-Germain      AM,F(RLC)   \n",
       "4             4       Mohamed Salah            Liverpool    AM(R),F(RC)   \n",
       "..          ...                 ...                  ...            ...   \n",
       "96           96          Jordi Alba            Barcelona      D,DM,M(L)   \n",
       "97           97    Matthijs de Ligt             Juventus           D(C)   \n",
       "98           98      Milan Skriniar       Internazionale           D(C)   \n",
       "99           99     Aymeric Laporte      Manchester City          D(LC)   \n",
       "100         100      Stefan de Vrij       Internazionale           D(C)   \n",
       "\n",
       "     HEIGHT   FOOT  AGE  RATING  cluster  \n",
       "0       170   Left   34      98        0  \n",
       "1       184  Right   33      97        0  \n",
       "2       178  Right   23      96        2  \n",
       "3       174   Both   30      96        1  \n",
       "4       175   Left   29      96        1  \n",
       "..      ...    ...  ...     ...      ...  \n",
       "96      170   Left   33      92        0  \n",
       "97      189   Both   22      92        2  \n",
       "98      186  Right   27      92        1  \n",
       "99      191   Left   27      92        1  \n",
       "100     189  Right   30      92        1  \n",
       "\n",
       "[101 rows x 9 columns]"
      ]
     },
     "execution_count": 39,
     "metadata": {},
     "output_type": "execute_result"
    }
   ],
   "source": [
    "# when we predict number of columns we can see that there are 3 types of them - 0,1,2\n",
    "# and we can look which player is related to which cluster\n",
    "data[\"cluster\"] = y_predicted\n",
    "data"
   ]
  },
  {
   "cell_type": "code",
   "execution_count": 35,
   "id": "93a99fb0-5e76-4907-90df-2345cc0e5f9c",
   "metadata": {},
   "outputs": [
    {
     "name": "stderr",
     "output_type": "stream",
     "text": [
      "No handles with labels found to put in legend.\n"
     ]
    },
    {
     "data": {
      "text/plain": [
       "<matplotlib.legend.Legend at 0x21a9aacdeb0>"
      ]
     },
     "execution_count": 35,
     "metadata": {},
     "output_type": "execute_result"
    },
    {
     "data": {
      "image/png": "[encoded data removed]",
      "text/plain": [
       "<Figure size 432x288 with 1 Axes>"
      ]
     },
     "metadata": {
      "needs_background": "light"
     },
     "output_type": "display_data"
    }
   ],
   "source": [
    "data1 = data[data.cluster == 0]\n",
    "data2 = data[data.cluster == 1]\n",
    "data3 = data[data.cluster == 2]\n",
    "\n",
    "plt.scatter(data1.AGE, data1[\"RATING\"],color=\"green\")\n",
    "plt.scatter(data2.AGE, data2[\"RATING\"],color=\"red\")\n",
    "plt.scatter(data3.AGE, data3[\"RATING\"],color=\"blue\")\n",
    "\n",
    "plt.xlabel(\"AGE\")\n",
    "plt.ylabel(\"RATING\")\n",
    "plt.legend()"
   ]
  },
  {
   "cell_type": "code",
   "execution_count": 36,
   "id": "558d526f-bf03-4ab1-9719-fae29866e8b1",
   "metadata": {},
   "outputs": [
    {
     "data": {
      "text/plain": [
       "<matplotlib.collections.PathCollection at 0x21a9ab32b80>"
      ]
     },
     "execution_count": 36,
     "metadata": {},
     "output_type": "execute_result"
    },
    {
     "data": {
      "image/png": "[encoded data removed]",
      "text/plain": [
       "<Figure size 432x288 with 1 Axes>"
      ]
     },
     "metadata": {
      "needs_background": "light"
     },
     "output_type": "display_data"
    }
   ],
   "source": [
    "plt.scatter(data[\"AGE\"], data[\"RATING\"])"
   ]
  },
  {
   "cell_type": "code",
   "execution_count": null,
   "id": "79016b5a-37f8-4719-a0f7-dd406492ee21",
   "metadata": {},
   "outputs": [],
   "source": [
    "# Now we can see that in comparison with our previous result\n",
    "# the data was divided into 3 categories on the basis of Age\n",
    "# Now we can definitely analyze our correlation between age and rating "
   ]
  },
  {
   "cell_type": "code",
   "execution_count": 53,
   "id": "8f4b2342-8d6f-408c-83ab-e7d5a4b281f3",
   "metadata": {},
   "outputs": [],
   "source": [
    "k_rng = range(1,10)\n",
    "sse = []"
   ]
  },
  {
   "cell_type": "code",
   "execution_count": 54,
   "id": "5ab07faf-6a83-4e80-a2b8-a327e9bff423",
   "metadata": {},
   "outputs": [
    {
     "name": "stderr",
     "output_type": "stream",
     "text": [
      "C:\\Users\\ellaz\\anaconda3\\lib\\site-packages\\sklearn\\cluster\\_kmeans.py:881: UserWarning: KMeans is known to have a memory leak on Windows with MKL, when there are less chunks than available threads. You can avoid it by setting the environment variable OMP_NUM_THREADS=1.\n",
      "  warnings.warn(\n"
     ]
    }
   ],
   "source": [
    "for k in k_rng:\n",
    "    km = KMeans(n_clusters=k)\n",
    "    km.fit(data[[\"AGE\",\"RATING\"]])\n",
    "    sse.append(km.inertia_)"
   ]
  },
  {
   "cell_type": "code",
   "execution_count": 55,
   "id": "9cd339ca-d464-47ac-9903-c81f1d75573c",
   "metadata": {},
   "outputs": [
    {
     "data": {
      "text/plain": [
       "[1567.7623762376231,\n",
       " 697.785486443381,\n",
       " 412.1303642010161,\n",
       " 309.4097141521404,\n",
       " 245.8554162312783,\n",
       " 213.42159796724994,\n",
       " 167.77330944917165,\n",
       " 142.67436974789925,\n",
       " 124.70963203463205]"
      ]
     },
     "execution_count": 55,
     "metadata": {},
     "output_type": "execute_result"
    }
   ],
   "source": [
    "sse"
   ]
  },
  {
   "cell_type": "code",
   "execution_count": 56,
   "id": "016084a0-ac63-40b5-bd79-bf61dbf88963",
   "metadata": {},
   "outputs": [
    {
     "data": {
      "text/plain": [
       "[<matplotlib.lines.Line2D at 0x21a9b6c0c70>]"
      ]
     },
     "execution_count": 56,
     "metadata": {},
     "output_type": "execute_result"
    },
    {
     "data": {
      "image/png": "[encoded data removed]",
      "text/plain": [
       "<Figure size 432x288 with 1 Axes>"
      ]
     },
     "metadata": {
      "needs_background": "light"
     },
     "output_type": "display_data"
    }
   ],
   "source": [
    "plt.xlabel(\"K\")\n",
    "plt.ylabel(\"Sum of squared error\")\n",
    "plt.plot(k_rng,sse)"
   ]
  },
  {
   "cell_type": "code",
   "execution_count": null,
   "id": "b49d6358-1bfb-41a4-b6a3-744c9ab3cb61",
   "metadata": {},
   "outputs": [],
   "source": [
    "# Now we can see that even with elbow method the best number of clusters was 3 \n",
    "# Now let's proceed to correlation test between age and rating\n"
   ]
  },
  {
   "cell_type": "code",
   "execution_count": 58,
   "id": "55b4188e-52df-48f9-80f7-af5c55908150",
   "metadata": {},
   "outputs": [
    {
     "data": {
      "text/html": [
       "<div>\n",
       "<style scoped>\n",
       "    .dataframe tbody tr th:only-of-type {\n",
       "        vertical-align: middle;\n",
       "    }\n",
       "\n",
       "    .dataframe tbody tr th {\n",
       "        vertical-align: top;\n",
       "    }\n",
       "\n",
       "    .dataframe thead th {\n",
       "        text-align: right;\n",
       "    }\n",
       "</style>\n",
       "<table border=\"1\" class=\"dataframe\">\n",
       "  <thead>\n",
       "    <tr style=\"text-align: right;\">\n",
       "      <th></th>\n",
       "      <th>AGE</th>\n",
       "      <th>RATING</th>\n",
       "    </tr>\n",
       "  </thead>\n",
       "  <tbody>\n",
       "    <tr>\n",
       "      <th>0</th>\n",
       "      <td>34</td>\n",
       "      <td>98</td>\n",
       "    </tr>\n",
       "    <tr>\n",
       "      <th>1</th>\n",
       "      <td>33</td>\n",
       "      <td>97</td>\n",
       "    </tr>\n",
       "    <tr>\n",
       "      <th>2</th>\n",
       "      <td>23</td>\n",
       "      <td>96</td>\n",
       "    </tr>\n",
       "    <tr>\n",
       "      <th>3</th>\n",
       "      <td>30</td>\n",
       "      <td>96</td>\n",
       "    </tr>\n",
       "    <tr>\n",
       "      <th>4</th>\n",
       "      <td>29</td>\n",
       "      <td>96</td>\n",
       "    </tr>\n",
       "    <tr>\n",
       "      <th>...</th>\n",
       "      <td>...</td>\n",
       "      <td>...</td>\n",
       "    </tr>\n",
       "    <tr>\n",
       "      <th>96</th>\n",
       "      <td>33</td>\n",
       "      <td>92</td>\n",
       "    </tr>\n",
       "    <tr>\n",
       "      <th>97</th>\n",
       "      <td>22</td>\n",
       "      <td>92</td>\n",
       "    </tr>\n",
       "    <tr>\n",
       "      <th>98</th>\n",
       "      <td>27</td>\n",
       "      <td>92</td>\n",
       "    </tr>\n",
       "    <tr>\n",
       "      <th>99</th>\n",
       "      <td>27</td>\n",
       "      <td>92</td>\n",
       "    </tr>\n",
       "    <tr>\n",
       "      <th>100</th>\n",
       "      <td>30</td>\n",
       "      <td>92</td>\n",
       "    </tr>\n",
       "  </tbody>\n",
       "</table>\n",
       "<p>101 rows × 2 columns</p>\n",
       "</div>"
      ],
      "text/plain": [
       "     AGE  RATING\n",
       "0     34      98\n",
       "1     33      97\n",
       "2     23      96\n",
       "3     30      96\n",
       "4     29      96\n",
       "..   ...     ...\n",
       "96    33      92\n",
       "97    22      92\n",
       "98    27      92\n",
       "99    27      92\n",
       "100   30      92\n",
       "\n",
       "[101 rows x 2 columns]"
      ]
     },
     "execution_count": 58,
     "metadata": {},
     "output_type": "execute_result"
    }
   ],
   "source": [
    "newData = data[[\"AGE\",\"RATING\"]]\n",
    "newData"
   ]
  },
  {
   "cell_type": "code",
   "execution_count": 59,
   "id": "13784943-9f2e-4ade-9ff5-a9af2d162993",
   "metadata": {},
   "outputs": [
    {
     "data": {
      "text/html": [
       "<div>\n",
       "<style scoped>\n",
       "    .dataframe tbody tr th:only-of-type {\n",
       "        vertical-align: middle;\n",
       "    }\n",
       "\n",
       "    .dataframe tbody tr th {\n",
       "        vertical-align: top;\n",
       "    }\n",
       "\n",
       "    .dataframe thead th {\n",
       "        text-align: right;\n",
       "    }\n",
       "</style>\n",
       "<table border=\"1\" class=\"dataframe\">\n",
       "  <thead>\n",
       "    <tr style=\"text-align: right;\">\n",
       "      <th></th>\n",
       "      <th>AGE</th>\n",
       "      <th>RATING</th>\n",
       "    </tr>\n",
       "  </thead>\n",
       "  <tbody>\n",
       "    <tr>\n",
       "      <th>AGE</th>\n",
       "      <td>1.00000</td>\n",
       "      <td>0.18969</td>\n",
       "    </tr>\n",
       "    <tr>\n",
       "      <th>RATING</th>\n",
       "      <td>0.18969</td>\n",
       "      <td>1.00000</td>\n",
       "    </tr>\n",
       "  </tbody>\n",
       "</table>\n",
       "</div>"
      ],
      "text/plain": [
       "            AGE   RATING\n",
       "AGE     1.00000  0.18969\n",
       "RATING  0.18969  1.00000"
      ]
     },
     "execution_count": 59,
     "metadata": {},
     "output_type": "execute_result"
    }
   ],
   "source": [
    "# Now we can do a correlation test\n",
    "newData.corr()"
   ]
  },
  {
   "cell_type": "code",
   "execution_count": null,
   "id": "64104e61-a6c7-4f7f-ba08-0585ff69c295",
   "metadata": {},
   "outputs": [],
   "source": [
    "# We can see that the value is equa to 0.189~0.19\n",
    "# Which means that the relation between these two variables \n",
    "# is not strong or even not medium level\n",
    "# Basically meaning that there is no correlation between age and rating \n",
    "# of a football player"
   ]
  },
  {
   "cell_type": "code",
   "execution_count": 60,
   "id": "3dbd9d4e-8681-450e-8045-42d34536220b",
   "metadata": {},
   "outputs": [],
   "source": [
    "npArr1 = np.array(data[\"AGE\"])\n",
    "npArr2 = np.array(data[\"RATING\"])"
   ]
  },
  {
   "cell_type": "code",
   "execution_count": 61,
   "id": "90de756b-26a2-4e86-a9b5-b13f3b1938a4",
   "metadata": {},
   "outputs": [
    {
     "data": {
      "text/plain": [
       "array([[1.       , 0.1896896],\n",
       "       [0.1896896, 1.       ]])"
      ]
     },
     "execution_count": 61,
     "metadata": {},
     "output_type": "execute_result"
    }
   ],
   "source": [
    "np.corrcoef(npArr1, npArr2)"
   ]
  },
  {
   "cell_type": "code",
   "execution_count": null,
   "id": "7c56d297-7426-43f4-91ea-cfe948d9469b",
   "metadata": {},
   "outputs": [],
   "source": []
  }
 ],
 "metadata": {
  "kernelspec": {
   "display_name": "Python 3 (ipykernel)",
   "language": "python",
   "name": "python3"
  },
  "language_info": {
   "codemirror_mode": {
    "name": "ipython",
    "version": 3
   },
   "file_extension": ".py",
   "mimetype": "text/x-python",
   "name": "python",
   "nbconvert_exporter": "python",
   "pygments_lexer": "ipython3",
   "version": "3.9.7"
  }
 },
 "nbformat": 4,
 "nbformat_minor": 5
}
